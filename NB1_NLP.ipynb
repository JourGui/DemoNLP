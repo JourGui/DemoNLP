{
 "cells": [
  {
   "cell_type": "code",
   "execution_count": 1,
   "metadata": {},
   "outputs": [],
   "source": [
    "import pandas as pd\n",
    "import numpy as np\n",
    "import matplotlib.pyplot as plt\n",
    "import seaborn as sns\n",
    "# upload just a sample dataframe for example purpose\n",
    "data1 = pd.read_csv('dataframe_cleaned.csv')"
   ]
  },
  {
   "cell_type": "code",
   "execution_count": 2,
   "metadata": {},
   "outputs": [
    {
     "data": {
      "image/png": "[encoded data removed]",
      "text/plain": [
       "<Figure size 432x288 with 1 Axes>"
      ]
     },
     "metadata": {
      "needs_background": "light"
     },
     "output_type": "display_data"
    }
   ],
   "source": [
    "import nltk\n",
    "import re\n",
    "from nltk.tokenize import RegexpTokenizer\n",
    "from nltk.stem import WordNetLemmatizer\n",
    "# could be also used\n",
    "#from nltk.stem import PorterStemmer\n",
    "#from nltk.stem import LancasterStemmer\n",
    "from nltk.stem.snowball import SnowballStemmer\n",
    "\n",
    "tokenizer = nltk.RegexpTokenizer(r'\\w+')\n",
    "wordnet_lemmatizer = WordNetLemmatizer()\n",
    "frenchStemmer=SnowballStemmer('french')\n",
    "\n",
    "List_desp = data1['Question'].tolist()\n",
    "\n",
    "stats, freq = dict(), dict()\n",
    "il= 0\n",
    "for list_k in List_desp:\n",
    "    \n",
    "    freq[il] = fq = nltk.FreqDist(tokenizer.tokenize(list_k.lower())) \n",
    "    stats[il] = {'total': len(list_k), 'unique': len(fq.keys())}\n",
    "    il +=1\n",
    "df_stats = pd.DataFrame.from_dict(stats, orient='index')\n",
    "df_stats.sort_values(by='unique', ascending=False)[:20].plot(kind='bar', color=['red','blue'], title='Top number of words in the 20 first questions')\n",
    "plt.show()"
   ]
  },
  {
   "cell_type": "code",
   "execution_count": 4,
   "metadata": {},
   "outputs": [
    {
     "data": {
      "image/png": "[encoded data removed]",
      "text/plain": [
       "<Figure size 720x360 with 1 Axes>"
      ]
     },
     "metadata": {
      "needs_background": "light"
     },
     "output_type": "display_data"
    }
   ],
   "source": [
    "freq_totale = nltk.Counter()\n",
    "il2= 0\n",
    "for list_k2 in List_desp:\n",
    "    freq_totale += freq[il2]\n",
    "    il2 +=1\n",
    "df_freqtot = pd.DataFrame.from_dict(freq_totale, orient='index')\n",
    "df_freqtot.columns = ['freqtot']\n",
    "df_freqtot.sort_values(by='freqtot', ascending=False)[:10].plot(kind='bar', \n",
    "                                                                color=['blue'],\n",
    "                                                                figsize=(10,5),\n",
    "                                                                title='Top 10 number of wordsin the questions')\n",
    "plt.show()"
   ]
  },
  {
   "cell_type": "code",
   "execution_count": 5,
   "metadata": {},
   "outputs": [
    {
     "name": "stdout",
     "output_type": "stream",
     "text": [
      "The limit of 5% of most common words represents: 26 words\n"
     ]
    },
    {
     "data": {
      "text/html": [
       "<div>\n",
       "<style scoped>\n",
       "    .dataframe tbody tr th:only-of-type {\n",
       "        vertical-align: middle;\n",
       "    }\n",
       "\n",
       "    .dataframe tbody tr th {\n",
       "        vertical-align: top;\n",
       "    }\n",
       "\n",
       "    .dataframe thead th {\n",
       "        text-align: right;\n",
       "    }\n",
       "</style>\n",
       "<table border=\"1\" class=\"dataframe\">\n",
       "  <thead>\n",
       "    <tr style=\"text-align: right;\">\n",
       "      <th></th>\n",
       "      <th>words</th>\n",
       "      <th>lemma</th>\n",
       "      <th>stem</th>\n",
       "    </tr>\n",
       "  </thead>\n",
       "  <tbody>\n",
       "    <tr>\n",
       "      <td>0</td>\n",
       "      <td>cinéma</td>\n",
       "      <td>cinéma</td>\n",
       "      <td>cinem</td>\n",
       "    </tr>\n",
       "    <tr>\n",
       "      <td>1</td>\n",
       "      <td>cette</td>\n",
       "      <td>cette</td>\n",
       "      <td>cet</td>\n",
       "    </tr>\n",
       "    <tr>\n",
       "      <td>2</td>\n",
       "      <td>semaine</td>\n",
       "      <td>semaine</td>\n",
       "      <td>semain</td>\n",
       "    </tr>\n",
       "  </tbody>\n",
       "</table>\n",
       "</div>"
      ],
      "text/plain": [
       "     words    lemma    stem\n",
       "0   cinéma   cinéma   cinem\n",
       "1    cette    cette     cet\n",
       "2  semaine  semaine  semain"
      ]
     },
     "execution_count": 5,
     "metadata": {},
     "output_type": "execute_result"
    }
   ],
   "source": [
    "from nltk import word_tokenize, pos_tag\n",
    "\n",
    "#setting limit of frequent words, here 5% top most common words\n",
    "mc_limit = int(np.ceil(0.05*df_freqtot.shape[0]))\n",
    "print('The limit of 5% of most common words represents: {} words'.format(mc_limit))\n",
    "# setting stopwords\n",
    "sw1 = set()\n",
    "sw1.update(tuple(list(zip(*freq_totale.most_common(mc_limit)))[0]))\n",
    "sw1.update(tuple(nltk.corpus.stopwords.words('french')))\n",
    "len(sw1)\n",
    "\n",
    "\n",
    "corpora_tok_original, corpora_tok_lem, corpora_tok_stem = dict(), dict(), dict()\n",
    "L_str_original, L_str_lem, L_str_stem = [], [], []\n",
    "#    list_k = list_red[0]\n",
    "# corpora[0] = [stemmer.stem(w) for w in tok_list_temp if not w in list(sw1)]\n",
    "\n",
    "il3= 0\n",
    "for list_k in List_desp:\n",
    "    # removing digits\n",
    "    list_kre= re.sub(r'\\d+',' ',list_k)\n",
    "    # removing words with less than 3 characters\n",
    "    list_kre2 = re.sub(r'\\b\\w{1,2}\\b', '', list_kre)\n",
    "    tok_list_temp = tokenizer.tokenize(list_kre2.lower())\n",
    "    # Remaining tokens stored as a list for each product\n",
    "    # Removing stop words and keeping only nouns and adjectives\n",
    "    corpora_tok_original[il3] = [w for (w, p) in pos_tag(tok_list_temp) if ((w not in list(sw1)))]  \n",
    "    corpora_tok_lem[il3] = [wordnet_lemmatizer.lemmatize(w, pos=\"v\") for (w, p) in pos_tag(tok_list_temp) if (w not in list(sw1))]\n",
    "    corpora_tok_stem[il3] = [frenchStemmer.stem(w) for (w, p) in pos_tag(tok_list_temp) if ((w not in list(sw1)))]\n",
    "    \n",
    "    # tokens merged as a string in a list for each product\n",
    "    L_str_original.append(' '.join(corpora_tok_original[il3]))\n",
    "    L_str_lem.append(' '.join(corpora_tok_lem[il3]))\n",
    "    L_str_stem.append(' '.join(corpora_tok_stem[il3]))\n",
    "    il3 +=1\n",
    "\n",
    "# example on the description on the first article\n",
    "cop_orig0 = pd.DataFrame.from_dict(corpora_tok_original, orient='index').iloc[0]\n",
    "cop_lem0 = pd.DataFrame.from_dict(corpora_tok_lem, orient='index').iloc[0]\n",
    "cop_stem0 = pd.DataFrame.from_dict(corpora_tok_stem, orient='index').iloc[0]\n",
    "\n",
    "# example on the description on the first article\n",
    "df0_wls = pd.DataFrame({'words':cop_orig0, 'lemma':cop_lem0, 'stem':cop_stem0})\n",
    "df0_wls.head(3)"
   ]
  },
  {
   "cell_type": "code",
   "execution_count": 6,
   "metadata": {},
   "outputs": [
    {
     "name": "stdout",
     "output_type": "stream",
     "text": [
      "Vocabulary size of our corpus: 385\n"
     ]
    },
    {
     "data": {
      "text/html": [
       "<div>\n",
       "<style scoped>\n",
       "    .dataframe tbody tr th:only-of-type {\n",
       "        vertical-align: middle;\n",
       "    }\n",
       "\n",
       "    .dataframe tbody tr th {\n",
       "        vertical-align: top;\n",
       "    }\n",
       "\n",
       "    .dataframe thead th {\n",
       "        text-align: right;\n",
       "    }\n",
       "</style>\n",
       "<table border=\"1\" class=\"dataframe\">\n",
       "  <thead>\n",
       "    <tr style=\"text-align: right;\">\n",
       "      <th></th>\n",
       "      <th>acheter</th>\n",
       "      <th>acouché</th>\n",
       "      <th>adresse</th>\n",
       "      <th>age</th>\n",
       "      <th>aimerais</th>\n",
       "      <th>alba</th>\n",
       "      <th>aller</th>\n",
       "      <th>amanda</th>\n",
       "      <th>amie</th>\n",
       "      <th>angelina</th>\n",
       "      <th>...</th>\n",
       "      <th>vient</th>\n",
       "      <th>vieux</th>\n",
       "      <th>visiter</th>\n",
       "      <th>voiture</th>\n",
       "      <th>voix</th>\n",
       "      <th>voudrais</th>\n",
       "      <th>yves</th>\n",
       "      <th>édifiée</th>\n",
       "      <th>élections</th>\n",
       "      <th>élu</th>\n",
       "    </tr>\n",
       "  </thead>\n",
       "  <tbody>\n",
       "    <tr>\n",
       "      <td>0</td>\n",
       "      <td>0.000000</td>\n",
       "      <td>0.0</td>\n",
       "      <td>0.0</td>\n",
       "      <td>0.0</td>\n",
       "      <td>0.0</td>\n",
       "      <td>0.0</td>\n",
       "      <td>0.0</td>\n",
       "      <td>0.0</td>\n",
       "      <td>0.0</td>\n",
       "      <td>0.0</td>\n",
       "      <td>...</td>\n",
       "      <td>0.0</td>\n",
       "      <td>0.0</td>\n",
       "      <td>0.0</td>\n",
       "      <td>0.0</td>\n",
       "      <td>0.0</td>\n",
       "      <td>0.0</td>\n",
       "      <td>0.0</td>\n",
       "      <td>0.0</td>\n",
       "      <td>0.0</td>\n",
       "      <td>0.0</td>\n",
       "    </tr>\n",
       "    <tr>\n",
       "      <td>1</td>\n",
       "      <td>0.549648</td>\n",
       "      <td>0.0</td>\n",
       "      <td>0.0</td>\n",
       "      <td>0.0</td>\n",
       "      <td>0.0</td>\n",
       "      <td>0.0</td>\n",
       "      <td>0.0</td>\n",
       "      <td>0.0</td>\n",
       "      <td>0.0</td>\n",
       "      <td>0.0</td>\n",
       "      <td>...</td>\n",
       "      <td>0.0</td>\n",
       "      <td>0.0</td>\n",
       "      <td>0.0</td>\n",
       "      <td>0.0</td>\n",
       "      <td>0.0</td>\n",
       "      <td>0.0</td>\n",
       "      <td>0.0</td>\n",
       "      <td>0.0</td>\n",
       "      <td>0.0</td>\n",
       "      <td>0.0</td>\n",
       "    </tr>\n",
       "    <tr>\n",
       "      <td>2</td>\n",
       "      <td>0.000000</td>\n",
       "      <td>0.0</td>\n",
       "      <td>0.0</td>\n",
       "      <td>0.0</td>\n",
       "      <td>0.0</td>\n",
       "      <td>0.0</td>\n",
       "      <td>0.0</td>\n",
       "      <td>0.0</td>\n",
       "      <td>0.0</td>\n",
       "      <td>0.0</td>\n",
       "      <td>...</td>\n",
       "      <td>0.0</td>\n",
       "      <td>0.0</td>\n",
       "      <td>0.0</td>\n",
       "      <td>0.0</td>\n",
       "      <td>0.0</td>\n",
       "      <td>0.0</td>\n",
       "      <td>0.0</td>\n",
       "      <td>0.0</td>\n",
       "      <td>0.0</td>\n",
       "      <td>0.0</td>\n",
       "    </tr>\n",
       "  </tbody>\n",
       "</table>\n",
       "<p>3 rows × 385 columns</p>\n",
       "</div>"
      ],
      "text/plain": [
       "    acheter  acouché  adresse  age  aimerais  alba  aller  amanda  amie  \\\n",
       "0  0.000000      0.0      0.0  0.0       0.0   0.0    0.0     0.0   0.0   \n",
       "1  0.549648      0.0      0.0  0.0       0.0   0.0    0.0     0.0   0.0   \n",
       "2  0.000000      0.0      0.0  0.0       0.0   0.0    0.0     0.0   0.0   \n",
       "\n",
       "   angelina  ...  vient  vieux  visiter  voiture  voix  voudrais  yves  \\\n",
       "0       0.0  ...    0.0    0.0      0.0      0.0   0.0       0.0   0.0   \n",
       "1       0.0  ...    0.0    0.0      0.0      0.0   0.0       0.0   0.0   \n",
       "2       0.0  ...    0.0    0.0      0.0      0.0   0.0       0.0   0.0   \n",
       "\n",
       "   édifiée  élections  élu  \n",
       "0      0.0        0.0  0.0  \n",
       "1      0.0        0.0  0.0  \n",
       "2      0.0        0.0  0.0  \n",
       "\n",
       "[3 rows x 385 columns]"
      ]
     },
     "execution_count": 6,
     "metadata": {},
     "output_type": "execute_result"
    }
   ],
   "source": [
    "from sklearn.feature_extraction.text import TfidfVectorizer \n",
    "# settings that you use for count vectorizer also used here\n",
    "tfidf_vectorizer=TfidfVectorizer(use_idf=True)\n",
    " \n",
    "# just send in all your docs here\n",
    "tfidf_vectorizer.fit(L_str_lem)\n",
    "print('Vocabulary size of our corpus: {}'.format(len(tfidf_vectorizer.vocabulary_)))\n",
    "bow_tfidf=tfidf_vectorizer.transform(L_str_lem)\n",
    "#print(bow_tfidf)\n",
    "df_bow_tfidf = pd.DataFrame(bow_tfidf.toarray())\n",
    "df_bow_tfidf.columns =tfidf_vectorizer.get_feature_names()\n",
    "df_bow_tfidf.head(3)"
   ]
  },
  {
   "cell_type": "code",
   "execution_count": 7,
   "metadata": {},
   "outputs": [
    {
     "data": {
      "text/html": [
       "<div>\n",
       "<style scoped>\n",
       "    .dataframe tbody tr th:only-of-type {\n",
       "        vertical-align: middle;\n",
       "    }\n",
       "\n",
       "    .dataframe tbody tr th {\n",
       "        vertical-align: top;\n",
       "    }\n",
       "\n",
       "    .dataframe thead th {\n",
       "        text-align: right;\n",
       "    }\n",
       "</style>\n",
       "<table border=\"1\" class=\"dataframe\">\n",
       "  <thead>\n",
       "    <tr style=\"text-align: right;\">\n",
       "      <th></th>\n",
       "      <th>0</th>\n",
       "      <th>1</th>\n",
       "      <th>2</th>\n",
       "      <th>3</th>\n",
       "      <th>4</th>\n",
       "      <th>5</th>\n",
       "      <th>6</th>\n",
       "      <th>7</th>\n",
       "      <th>8</th>\n",
       "      <th>9</th>\n",
       "      <th>...</th>\n",
       "      <th>240</th>\n",
       "      <th>241</th>\n",
       "      <th>242</th>\n",
       "      <th>243</th>\n",
       "      <th>244</th>\n",
       "      <th>245</th>\n",
       "      <th>246</th>\n",
       "      <th>247</th>\n",
       "      <th>248</th>\n",
       "      <th>249</th>\n",
       "    </tr>\n",
       "  </thead>\n",
       "  <tbody>\n",
       "    <tr>\n",
       "      <td>acheter</td>\n",
       "      <td>0.0</td>\n",
       "      <td>0.549648</td>\n",
       "      <td>0.0</td>\n",
       "      <td>0.0</td>\n",
       "      <td>0.0</td>\n",
       "      <td>0.0</td>\n",
       "      <td>0.0</td>\n",
       "      <td>0.0</td>\n",
       "      <td>0.000000</td>\n",
       "      <td>0.0</td>\n",
       "      <td>...</td>\n",
       "      <td>0.0</td>\n",
       "      <td>0.0</td>\n",
       "      <td>0.0</td>\n",
       "      <td>0.0</td>\n",
       "      <td>0.0</td>\n",
       "      <td>0.0</td>\n",
       "      <td>0.0</td>\n",
       "      <td>0.0</td>\n",
       "      <td>0.0</td>\n",
       "      <td>0.0</td>\n",
       "    </tr>\n",
       "    <tr>\n",
       "      <td>acouché</td>\n",
       "      <td>0.0</td>\n",
       "      <td>0.000000</td>\n",
       "      <td>0.0</td>\n",
       "      <td>0.0</td>\n",
       "      <td>0.0</td>\n",
       "      <td>0.0</td>\n",
       "      <td>0.0</td>\n",
       "      <td>0.0</td>\n",
       "      <td>0.000000</td>\n",
       "      <td>0.0</td>\n",
       "      <td>...</td>\n",
       "      <td>0.0</td>\n",
       "      <td>0.0</td>\n",
       "      <td>0.0</td>\n",
       "      <td>0.0</td>\n",
       "      <td>0.0</td>\n",
       "      <td>0.0</td>\n",
       "      <td>0.0</td>\n",
       "      <td>0.0</td>\n",
       "      <td>0.0</td>\n",
       "      <td>0.0</td>\n",
       "    </tr>\n",
       "    <tr>\n",
       "      <td>adresse</td>\n",
       "      <td>0.0</td>\n",
       "      <td>0.000000</td>\n",
       "      <td>0.0</td>\n",
       "      <td>0.0</td>\n",
       "      <td>0.0</td>\n",
       "      <td>0.0</td>\n",
       "      <td>0.0</td>\n",
       "      <td>0.0</td>\n",
       "      <td>0.000000</td>\n",
       "      <td>0.0</td>\n",
       "      <td>...</td>\n",
       "      <td>0.0</td>\n",
       "      <td>0.0</td>\n",
       "      <td>0.0</td>\n",
       "      <td>0.0</td>\n",
       "      <td>0.0</td>\n",
       "      <td>0.0</td>\n",
       "      <td>0.0</td>\n",
       "      <td>0.0</td>\n",
       "      <td>0.0</td>\n",
       "      <td>0.0</td>\n",
       "    </tr>\n",
       "    <tr>\n",
       "      <td>age</td>\n",
       "      <td>0.0</td>\n",
       "      <td>0.000000</td>\n",
       "      <td>0.0</td>\n",
       "      <td>0.0</td>\n",
       "      <td>0.0</td>\n",
       "      <td>0.0</td>\n",
       "      <td>0.0</td>\n",
       "      <td>0.0</td>\n",
       "      <td>0.675072</td>\n",
       "      <td>0.0</td>\n",
       "      <td>...</td>\n",
       "      <td>0.0</td>\n",
       "      <td>0.0</td>\n",
       "      <td>0.0</td>\n",
       "      <td>0.0</td>\n",
       "      <td>0.0</td>\n",
       "      <td>0.0</td>\n",
       "      <td>0.0</td>\n",
       "      <td>0.0</td>\n",
       "      <td>0.0</td>\n",
       "      <td>0.0</td>\n",
       "    </tr>\n",
       "    <tr>\n",
       "      <td>aimerais</td>\n",
       "      <td>0.0</td>\n",
       "      <td>0.000000</td>\n",
       "      <td>0.0</td>\n",
       "      <td>0.0</td>\n",
       "      <td>0.0</td>\n",
       "      <td>0.0</td>\n",
       "      <td>0.0</td>\n",
       "      <td>0.0</td>\n",
       "      <td>0.000000</td>\n",
       "      <td>0.0</td>\n",
       "      <td>...</td>\n",
       "      <td>0.0</td>\n",
       "      <td>0.0</td>\n",
       "      <td>0.0</td>\n",
       "      <td>0.0</td>\n",
       "      <td>0.0</td>\n",
       "      <td>0.0</td>\n",
       "      <td>0.0</td>\n",
       "      <td>0.0</td>\n",
       "      <td>0.0</td>\n",
       "      <td>0.0</td>\n",
       "    </tr>\n",
       "  </tbody>\n",
       "</table>\n",
       "<p>5 rows × 250 columns</p>\n",
       "</div>"
      ],
      "text/plain": [
       "          0         1    2    3    4    5    6    7         8    9    ...  \\\n",
       "acheter   0.0  0.549648  0.0  0.0  0.0  0.0  0.0  0.0  0.000000  0.0  ...   \n",
       "acouché   0.0  0.000000  0.0  0.0  0.0  0.0  0.0  0.0  0.000000  0.0  ...   \n",
       "adresse   0.0  0.000000  0.0  0.0  0.0  0.0  0.0  0.0  0.000000  0.0  ...   \n",
       "age       0.0  0.000000  0.0  0.0  0.0  0.0  0.0  0.0  0.675072  0.0  ...   \n",
       "aimerais  0.0  0.000000  0.0  0.0  0.0  0.0  0.0  0.0  0.000000  0.0  ...   \n",
       "\n",
       "          240  241  242  243  244  245  246  247  248  249  \n",
       "acheter   0.0  0.0  0.0  0.0  0.0  0.0  0.0  0.0  0.0  0.0  \n",
       "acouché   0.0  0.0  0.0  0.0  0.0  0.0  0.0  0.0  0.0  0.0  \n",
       "adresse   0.0  0.0  0.0  0.0  0.0  0.0  0.0  0.0  0.0  0.0  \n",
       "age       0.0  0.0  0.0  0.0  0.0  0.0  0.0  0.0  0.0  0.0  \n",
       "aimerais  0.0  0.0  0.0  0.0  0.0  0.0  0.0  0.0  0.0  0.0  \n",
       "\n",
       "[5 rows x 250 columns]"
      ]
     },
     "execution_count": 7,
     "metadata": {},
     "output_type": "execute_result"
    }
   ],
   "source": [
    "from gensim import matutils, models\n",
    "import scipy.sparse\n",
    "\n",
    "#tranpose the bag of words for generating the corpus later\n",
    "tdm_tfidf = df_bow_tfidf.transpose()\n",
    "#tdm_tfidf.head()\n",
    "\n",
    "#from df to sparse matrix to gensim corpus\n",
    "sparse_counts_tfidf = scipy.sparse.csr_matrix(tdm_tfidf)\n",
    "corpus_tfidf = matutils.Sparse2Corpus(sparse_counts_tfidf)\n",
    "\n",
    "# gensim requirement a dictionary word location, word. Basically the tfidf_vectorizer.vocabulary_ where keys and values are interverted\n",
    "id2word_tfidf = dict((v, k) for k, v in tfidf_vectorizer.vocabulary_.items())\n",
    "\n",
    "tdm_tfidf.head()"
   ]
  },
  {
   "cell_type": "code",
   "execution_count": 9,
   "metadata": {},
   "outputs": [
    {
     "data": {
      "text/plain": [
       "[(0,\n",
       "  '0.028*\"appartient\" + 0.021*\"peux\" + 0.015*\"trouver\" + 0.014*\"connais\" + 0.012*\"numero\" + 0.011*\"ici\" + 0.010*\"restaurant\" + 0.009*\"marie\" + 0.009*\"telephone\" + 0.008*\"chirac\"'),\n",
       " (1,\n",
       "  '0.022*\"environ\" + 0.019*\"obama\" + 0.019*\"depuis\" + 0.017*\"tour\" + 0.016*\"homme\" + 0.012*\"montparnasse\" + 0.012*\"eiffel\" + 0.012*\"proche\" + 0.011*\"sarkozy\" + 0.011*\"paris\"'),\n",
       " (2,\n",
       "  '0.030*\"hollande\" + 0.024*\"age\" + 0.022*\"francois\" + 0.022*\"appeler\" + 0.018*\"france\" + 0.018*\"combien\" + 0.011*\"femmes\" + 0.010*\"mort\" + 0.010*\"appelle\" + 0.009*\"president\"')]"
      ]
     },
     "execution_count": 9,
     "metadata": {},
     "output_type": "execute_result"
    }
   ],
   "source": [
    "# lantent dirichlet allocation based on term frequency inverse document frequency, 3 groups\n",
    "lda_tfidf_short = models.LdaModel(corpus=corpus_tfidf, id2word=id2word_tfidf, num_topics=3, passes=80)\n",
    "lda_tfidf_short.print_topics()"
   ]
  },
  {
   "cell_type": "code",
   "execution_count": 8,
   "metadata": {},
   "outputs": [
    {
     "data": {
      "text/plain": [
       "[(0,\n",
       "  '0.023*\"proche\" + 0.020*\"plus\" + 0.016*\"appelé\" + 0.015*\"environ\" + 0.014*\"coin\" + 0.012*\"femmes\" + 0.012*\"tiens\" + 0.012*\"expo\" + 0.010*\"trouve\" + 0.010*\"faire\"'),\n",
       " (1,\n",
       "  '0.026*\"tour\" + 0.020*\"eiffel\" + 0.019*\"depuis\" + 0.015*\"combien\" + 0.013*\"connais\" + 0.012*\"sexe\" + 0.012*\"sarkozy\" + 0.012*\"reçu\" + 0.011*\"beyonce\" + 0.011*\"fête\"'),\n",
       " (2,\n",
       "  '0.032*\"appeler\" + 0.026*\"peux\" + 0.022*\"environ\" + 0.021*\"trouver\" + 0.016*\"restaurant\" + 0.016*\"paris\" + 0.012*\"métro\" + 0.011*\"bar\" + 0.010*\"magasin\" + 0.009*\"bon\"'),\n",
       " (3,\n",
       "  '0.044*\"hollande\" + 0.041*\"appartient\" + 0.032*\"francois\" + 0.031*\"age\" + 0.024*\"obama\" + 0.016*\"numero\" + 0.014*\"mort\" + 0.014*\"ici\" + 0.013*\"marie\" + 0.012*\"mandela\"'),\n",
       " (4,\n",
       "  '0.026*\"homme\" + 0.018*\"jackson\" + 0.018*\"michael\" + 0.014*\"combien\" + 0.014*\"montparnasse\" + 0.013*\"président\" + 0.011*\"france\" + 0.011*\"élu\" + 0.009*\"jacques\" + 0.009*\"chirac\"')]"
      ]
     },
     "execution_count": 8,
     "metadata": {},
     "output_type": "execute_result"
    }
   ],
   "source": [
    "# lantent dirichlet allocation based on term frequency inverse document frequency, 5 groups\n",
    "lda_tfidf = models.LdaModel(corpus=corpus_tfidf, id2word=id2word_tfidf, num_topics=5, passes=80)\n",
    "lda_tfidf.print_topics()"
   ]
  },
  {
   "cell_type": "code",
   "execution_count": 10,
   "metadata": {},
   "outputs": [
    {
     "name": "stdout",
     "output_type": "stream",
     "text": [
      "[[0.         0.75330913]\n",
      " [1.         0.12325051]\n",
      " [2.         0.1234404 ]]\n"
     ]
    }
   ],
   "source": [
    "# get the probability to belong to one topic\n",
    "corpus_transformed = lda_tfidf_short[corpus_tfidf]\n",
    "get_document_topics = lda_tfidf_short.get_document_topics(corpus_tfidf)\n",
    "print(np.array(get_document_topics[1]))"
   ]
  },
  {
   "cell_type": "code",
   "execution_count": 11,
   "metadata": {},
   "outputs": [
    {
     "data": {
      "text/html": [
       "<div>\n",
       "<style scoped>\n",
       "    .dataframe tbody tr th:only-of-type {\n",
       "        vertical-align: middle;\n",
       "    }\n",
       "\n",
       "    .dataframe tbody tr th {\n",
       "        vertical-align: top;\n",
       "    }\n",
       "\n",
       "    .dataframe thead th {\n",
       "        text-align: right;\n",
       "    }\n",
       "</style>\n",
       "<table border=\"1\" class=\"dataframe\">\n",
       "  <thead>\n",
       "    <tr style=\"text-align: right;\">\n",
       "      <th></th>\n",
       "      <th>topic</th>\n",
       "      <th>proba</th>\n",
       "    </tr>\n",
       "  </thead>\n",
       "  <tbody>\n",
       "    <tr>\n",
       "      <td>0</td>\n",
       "      <td>1.0</td>\n",
       "      <td>0.740002</td>\n",
       "    </tr>\n",
       "    <tr>\n",
       "      <td>1</td>\n",
       "      <td>0.0</td>\n",
       "      <td>0.753309</td>\n",
       "    </tr>\n",
       "    <tr>\n",
       "      <td>2</td>\n",
       "      <td>1.0</td>\n",
       "      <td>0.720570</td>\n",
       "    </tr>\n",
       "  </tbody>\n",
       "</table>\n",
       "</div>"
      ],
      "text/plain": [
       "   topic     proba\n",
       "0    1.0  0.740002\n",
       "1    0.0  0.753309\n",
       "2    1.0  0.720570"
      ]
     },
     "execution_count": 11,
     "metadata": {},
     "output_type": "execute_result"
    }
   ],
   "source": [
    "# compute the top topic and its related probability for each document\n",
    "df_gdt = pd.DataFrame(np.zeros((1, 2)), columns=['topic','proba'])\n",
    "for gdt in get_document_topics:\n",
    "    df_gdt_temp = pd.DataFrame(np.array(gdt), columns=['topic','proba']).sort_values(by=['proba'], ascending=False).iloc[[0]]\n",
    "    df_gdt = df_gdt.append(df_gdt_temp)\n",
    "df_gdt = df_gdt[1:].reset_index().drop(columns='index')\n",
    "df_gdt.head(3)"
   ]
  },
  {
   "cell_type": "code",
   "execution_count": 12,
   "metadata": {},
   "outputs": [],
   "source": [
    "data1['topic'] = df_gdt['topic']\n",
    "data1['proba'] = df_gdt['proba']"
   ]
  },
  {
   "cell_type": "code",
   "execution_count": 13,
   "metadata": {},
   "outputs": [
    {
     "data": {
      "image/png": "[encoded data removed]",
      "text/plain": [
       "<Figure size 432x288 with 1 Axes>"
      ]
     },
     "metadata": {
      "needs_background": "light"
     },
     "output_type": "display_data"
    }
   ],
   "source": [
    "# Function plotting histograms, distribution plots, mean and median for features containing numerical values\n",
    "def Hist_comp_non_obj_df(data_frame):\n",
    "    data_frame_Nobj = data_frame.select_dtypes(exclude='object').dropna()\n",
    "    Nb_col_data_frame_Nobj = data_frame_Nobj.shape[1]\n",
    "    ih = 1\n",
    "    for col_data_frame_Nobj in data_frame_Nobj:\n",
    "        arr_temp = data_frame_Nobj[col_data_frame_Nobj]\n",
    "        plt.figure(figsize=(6, 4))\n",
    "        ax_temp = sns.distplot(arr_temp)\n",
    "        plt.axvline(np.mean(arr_temp), color='b', linestyle='dashed', linewidth=3)\n",
    "        plt.axvline(np.median(arr_temp), color='orange', linestyle='dashed', linewidth=3)\n",
    "        plt.title('Distribution, Mean (blue), Median (orange) for the feature {}'.format(col_data_frame_Nobj))\n",
    "        plt.show()\n",
    "    return\n",
    "\n",
    "Hist_comp_non_obj_df(data1[['topic']])"
   ]
  },
  {
   "cell_type": "markdown",
   "metadata": {},
   "source": [
    "Topics are distributed quite evenly over the documents"
   ]
  },
  {
   "cell_type": "code",
   "execution_count": 14,
   "metadata": {},
   "outputs": [
    {
     "name": "stdout",
     "output_type": "stream",
     "text": [
      "[(88, 1), (99, 1), (204, 1), (205, 1)]\n"
     ]
    }
   ],
   "source": [
    "# creating list of list of tokens for each cleaned text\n",
    "df_t_cleaned = pd.DataFrame({'text_cleaned':L_str_lem})\n",
    "text_cl = df_t_cleaned['text_cleaned']\n",
    "text_list = [i.split() for i in text_cl]\n",
    "\n",
    "# Based on the list of list of tokens, creation of Dictionnary and Document Term Matrix for the pyLDA\n",
    "from gensim import corpora\n",
    "\n",
    "dictionary_gen = corpora.Dictionary(text_list)\n",
    "# Converting list of documents (corpus) into Document Term Matrix using dictionary prepared above.\n",
    "doc_term_matrix = [dictionary_gen.doc2bow(doc) for doc in text_list] # corpus\n",
    "print(doc_term_matrix[100])"
   ]
  },
  {
   "cell_type": "code",
   "execution_count": 15,
   "metadata": {},
   "outputs": [
    {
     "name": "stdout",
     "output_type": "stream",
     "text": [
      "\n",
      "Coherence Score LDA 3 topics:  0.8376313461668299\n",
      "\n",
      "Coherence Score LDA 5 topics:  0.8349895384016619\n"
     ]
    }
   ],
   "source": [
    "# checking the coherence for two LDA based on tfidf\n",
    "from gensim.models import CoherenceModel\n",
    "# Compute Coherence Score\n",
    "coherence_model_lda_short = CoherenceModel(model=lda_tfidf_short, texts=text_list, dictionary=dictionary_gen, coherence='c_v')\n",
    "coherence_lda_short = coherence_model_lda_short.get_coherence()\n",
    "print('\\nCoherence Score LDA 3 topics: ', coherence_lda_short)\n",
    "\n",
    "coherence_model_lda = CoherenceModel(model=lda_tfidf, texts=text_list, dictionary=dictionary_gen, coherence='c_v')\n",
    "coherence_lda = coherence_model_lda.get_coherence()\n",
    "print('\\nCoherence Score LDA 5 topics: ', coherence_lda)"
   ]
  },
  {
   "cell_type": "code",
   "execution_count": 17,
   "metadata": {},
   "outputs": [
    {
     "name": "stderr",
     "output_type": "stream",
     "text": [
      "C:\\Users\\USER\\Anaconda3\\lib\\site-packages\\pyLDAvis\\_prepare.py:257: FutureWarning: Sorting because non-concatenation axis is not aligned. A future version\n",
      "of pandas will change to not sort by default.\n",
      "\n",
      "To accept the future behavior, pass 'sort=False'.\n",
      "\n",
      "To retain the current behavior and silence the warning, pass 'sort=True'.\n",
      "\n",
      "  return pd.concat([default_term_info] + list(topic_dfs))\n"
     ]
    },
    {
     "data": {
      "text/html": [
       "\n",
       "<link rel=\"stylesheet\" type=\"text/css\" href=\"https://cdn.rawgit.com/bmabey/pyLDAvis/files/ldavis.v1.0.0.css\">\n",
       "\n",
       "\n",
       "<div id=\"ldavis_el105165987475667927579337919\"></div>\n",
       "<script type=\"text/javascript\">\n",
       "\n",
       "var ldavis_el105165987475667927579337919_data = {\"mdsDat\": {\"x\": [-0.00031545731783497524, -0.08879488109340568, 0.08911033841124066], \"y\": [-0.08745401676582612, 0.0439596154669519, 0.04349440129887426], \"topics\": [1, 2, 3], \"cluster\": [1, 1, 1], \"Freq\": [37.16563034057617, 33.81522750854492, 29.019134521484375]}, \"tinfo\": {\"Category\": [\"Default\", \"Default\", \"Default\", \"Default\", \"Default\", \"Default\", \"Default\", \"Default\", \"Default\", \"Default\", \"Default\", \"Default\", \"Default\", \"Default\", \"Default\", \"Default\", \"Default\", \"Default\", \"Default\", \"Default\", \"Default\", \"Default\", \"Default\", \"Default\", \"Default\", \"Default\", \"Default\", \"Default\", \"Default\", \"Default\", \"Topic1\", \"Topic1\", \"Topic1\", \"Topic1\", \"Topic1\", \"Topic1\", \"Topic1\", \"Topic1\", \"Topic1\", \"Topic1\", \"Topic1\", \"Topic1\", \"Topic1\", \"Topic1\", \"Topic1\", \"Topic1\", \"Topic1\", \"Topic1\", \"Topic1\", \"Topic1\", \"Topic1\", \"Topic1\", \"Topic1\", \"Topic1\", \"Topic1\", \"Topic1\", \"Topic1\", \"Topic1\", \"Topic1\", \"Topic1\", \"Topic1\", \"Topic1\", \"Topic1\", \"Topic1\", \"Topic1\", \"Topic1\", \"Topic2\", \"Topic2\", \"Topic2\", \"Topic2\", \"Topic2\", \"Topic2\", \"Topic2\", \"Topic2\", \"Topic2\", \"Topic2\", \"Topic2\", \"Topic2\", \"Topic2\", \"Topic2\", \"Topic2\", \"Topic2\", \"Topic2\", \"Topic2\", \"Topic2\", \"Topic2\", \"Topic2\", \"Topic2\", \"Topic2\", \"Topic2\", \"Topic2\", \"Topic2\", \"Topic2\", \"Topic2\", \"Topic2\", \"Topic2\", \"Topic2\", \"Topic2\", \"Topic2\", \"Topic2\", \"Topic2\", \"Topic3\", \"Topic3\", \"Topic3\", \"Topic3\", \"Topic3\", \"Topic3\", \"Topic3\", \"Topic3\", \"Topic3\", \"Topic3\", \"Topic3\", \"Topic3\", \"Topic3\", \"Topic3\", \"Topic3\", \"Topic3\", \"Topic3\", \"Topic3\", \"Topic3\", \"Topic3\", \"Topic3\", \"Topic3\", \"Topic3\", \"Topic3\", \"Topic3\", \"Topic3\", \"Topic3\", \"Topic3\", \"Topic3\", \"Topic3\", \"Topic3\", \"Topic3\", \"Topic3\", \"Topic3\", \"Topic3\", \"Topic3\", \"Topic3\"], \"Freq\": [7.0, 8.0, 5.0, 5.0, 5.0, 6.0, 6.0, 4.0, 4.0, 5.0, 5.0, 4.0, 4.0, 4.0, 4.0, 3.0, 3.0, 3.0, 3.0, 3.0, 2.0, 3.0, 3.0, 3.0, 3.0, 3.0, 2.0, 2.0, 2.0, 3.0, 7.6307573318481445, 5.615969657897949, 4.18801736831665, 3.7942800521850586, 3.201258659362793, 2.528036117553711, 2.359966993331909, 2.2297163009643555, 2.2297163009643555, 2.189525604248047, 2.079390525817871, 2.153552532196045, 1.9923571348190308, 1.873744249343872, 1.9850504398345947, 1.7386457920074463, 1.6740376949310303, 1.622267484664917, 1.5737282037734985, 1.5234335660934448, 1.504780650138855, 1.504780650138855, 1.4950363636016846, 1.4331587553024292, 1.4331587553024292, 1.3857516050338745, 1.410165786743164, 1.2298585176467896, 1.2294163703918457, 1.1725906133651733, 3.0902841091156006, 2.6135449409484863, 1.4766050577163696, 1.8601940870285034, 1.6275935173034668, 1.462821125984192, 5.503746032714844, 4.73268461227417, 4.65185022354126, 4.1932759284973145, 3.080397367477417, 2.9989919662475586, 2.888174057006836, 2.808198928833008, 2.523360013961792, 2.523360013961792, 2.466057300567627, 3.9197654724121094, 2.486459493637085, 2.2785184383392334, 1.9794542789459229, 2.010368585586548, 1.8901842832565308, 1.8094651699066162, 1.6776509284973145, 1.7162165641784668, 1.7608823776245117, 1.5239800214767456, 1.5214718580245972, 1.5011824369430542, 1.3504444360733032, 1.4161524772644043, 1.3315457105636597, 1.3100628852844238, 1.2949438095092773, 2.7585959434509277, 2.3785669803619385, 1.3971213102340698, 1.7388432025909424, 1.9083446264266968, 1.4889904260635376, 6.399971961975098, 5.128767490386963, 4.638604164123535, 4.6146931648254395, 3.929914712905884, 3.9128808975219727, 2.3543386459350586, 2.0918986797332764, 1.8356934785842896, 1.8035484552383423, 1.7950878143310547, 1.7448323965072632, 1.7336552143096924, 1.733843207359314, 1.6551095247268677, 1.5034672021865845, 1.3117700815200806, 1.3220819234848022, 2.0148704051971436, 1.2187833786010742, 1.1997042894363403, 1.1621980667114258, 1.1205557584762573, 1.1205556392669678, 1.1205556392669678, 1.5568479299545288, 1.0424927473068237, 0.9836276769638062, 0.9615141749382019, 0.9556576013565063, 2.184873580932617, 1.275046467781067, 1.4905996322631836, 1.5708212852478027, 1.2214268445968628, 1.1467465162277222, 1.146986961364746], \"Term\": [\"republique\", \"hollande\", \"acheter\", \"michel\", \"maine\", \"peut\", \"arnaque\", \"match\", \"tour\", \"temps\", \"ugc\", \"dujardin\", \"travaillent\", \"dites\", \"annees\", \"sorti\", \"dire\", \"sarkozy\", \"pouvoir\", \"cardinal\", \"rue\", \"r\\u00e9dig\\u00e9\", \"tomb\\u00e9\", \"fabre\", \"montre\", \"esp\\u00e9rance\", \"rendez\", \"age\", \"f\\u00e9vrier\", \"region\", \"hollande\", \"arnaque\", \"travaillent\", \"annees\", \"r\\u00e9dig\\u00e9\", \"lune\", \"charlie\", \"taxi\", \"fill\", \"bien\", \"veux\", \"olympiques\", \"environ\", \"tombe\", \"isabelle\", \"kennedy\", \"richilieu\", \"samu\", \"eiffel\", \"cette\", \"brad\", \"mindiquer\", \"mick\", \"prochaines\", \"femme\", \"tiens\", \"christophe\", \"cinema\", \"maman\", \"adresse\", \"\\u00e9lections\", \"anniversaire\", \"connais\", \"nom\", \"montparnasse\", \"minimum\", \"peut\", \"temps\", \"ugc\", \"dujardin\", \"sorti\", \"dire\", \"pouvoir\", \"cardinal\", \"tomb\\u00e9\", \"fabre\", \"montre\", \"dites\", \"esp\\u00e9rance\", \"food\", \"femelle\", \"trouve\", \"fast\", \"clooney\", \"beaucoup\", \"nuit\", \"mondiale\", \"europ\\u00e9en\", \"attentat\", \"valerie\", \"montsouris\", \"essay\\u00e9\", \"pr\\u00e9sident\", \"existe\", \"contruite\", \"invalid\", \"nom\", \"ind\\u00e9pendence\", \"montparnasse\", \"anniversaire\", \"gare\", \"republique\", \"acheter\", \"michel\", \"maine\", \"match\", \"tour\", \"sarkozy\", \"rue\", \"rendez\", \"age\", \"f\\u00e9vrier\", \"antoine\", \"passer\", \"lorsqu\", \"retrouve\", \"nicolas\", \"roussous\", \"bus\", \"monaco\", \"germain\", \"bourdelle\", \"proximite\", \"spam\", \"comment\", \"grant\", \"lear\", \"sanglier\", \"telephone\", \"ouverture\", \"chercher\", \"region\", \"d\\u00e9c\\u00e8s\", \"commence\", \"gare\", \"depuis\", \"amie\", \"d\\u00e9j\\u00e0\"], \"Total\": [7.0, 8.0, 5.0, 5.0, 5.0, 6.0, 6.0, 4.0, 4.0, 5.0, 5.0, 4.0, 4.0, 4.0, 4.0, 3.0, 3.0, 3.0, 3.0, 3.0, 2.0, 3.0, 3.0, 3.0, 3.0, 3.0, 2.0, 2.0, 2.0, 3.0, 8.200372695922852, 6.2397308349609375, 4.790256977081299, 4.363320350646973, 3.9112958908081055, 3.098212242126465, 2.9284040927886963, 2.8098814487457275, 2.8098814487457275, 2.7601735591888428, 2.6476290225982666, 2.760582208633423, 2.5606613159179688, 2.4421467781066895, 2.6301403045654297, 2.307925224304199, 2.2427706718444824, 2.190702438354492, 2.1421544551849365, 2.091884136199951, 2.073125123977661, 2.073125123977661, 2.066588878631592, 2.010166645050049, 2.010166645050049, 1.965085744857788, 2.007338762283325, 1.7990803718566895, 1.798985481262207, 1.741818904876709, 4.644958019256592, 4.805431842803955, 2.431840419769287, 4.522377014160156, 3.650362968444824, 2.4309885501861572, 6.168539047241211, 5.420060157775879, 5.352237224578857, 4.840037822723389, 3.7272515296936035, 3.6452579498291016, 3.5353970527648926, 3.455031156539917, 3.170668601989746, 3.170668601989746, 3.1136302947998047, 4.961219787597656, 3.185173273086548, 2.924915313720703, 2.6264309883117676, 2.6704516410827637, 2.5365068912506104, 2.4668335914611816, 2.3265349864959717, 2.3817784786224365, 2.469999074935913, 2.170825719833374, 2.1680026054382324, 2.147761344909668, 1.9966341257095337, 2.101914882659912, 1.9780205488204956, 1.9571012258529663, 1.9419132471084595, 4.176303863525391, 4.522377014160156, 2.2276010513305664, 3.650362968444824, 4.805431842803955, 3.4252381324768066, 7.062890529632568, 5.824833393096924, 5.2880473136901855, 5.296308994293213, 4.585778713226318, 4.6639838218688965, 3.059427499771118, 2.7647552490234375, 2.4847888946533203, 2.4530792236328125, 2.4448914527893066, 2.394416332244873, 2.3832521438598633, 2.3847603797912598, 2.3046674728393555, 2.153593063354492, 1.9706873893737793, 1.9919276237487793, 3.0719242095947266, 1.8682432174682617, 1.8491771221160889, 1.8113635778427124, 1.7723755836486816, 1.772375464439392, 1.772375464439392, 2.5326547622680664, 1.7038962841033936, 1.6463820934295654, 1.6118826866149902, 1.6060220003128052, 3.8008012771606445, 2.332383155822754, 3.113168716430664, 3.4252381324768066, 2.394350528717041, 2.184603691101074, 2.2733216285705566], \"loglift\": [30.0, 29.0, 28.0, 27.0, 26.0, 25.0, 24.0, 23.0, 22.0, 21.0, 20.0, 19.0, 18.0, 17.0, 16.0, 15.0, 14.0, 13.0, 12.0, 11.0, 10.0, 9.0, 8.0, 7.0, 6.0, 5.0, 4.0, 3.0, 2.0, 1.0, 0.9178000092506409, 0.8845000267028809, 0.855400025844574, 0.8500000238418579, 0.7894999980926514, 0.7864000201225281, 0.7739999890327454, 0.7584999799728394, 0.7584999799728394, 0.7581999897956848, 0.748199999332428, 0.7415000200271606, 0.7387999892234802, 0.7247999906539917, 0.7084000110626221, 0.7064999938011169, 0.6973000168800354, 0.6894000172615051, 0.6814000010490417, 0.6726999878883362, 0.6693999767303467, 0.6693999767303467, 0.6660000085830688, 0.6514000296592712, 0.6514000296592712, 0.640500009059906, 0.6366999745368958, 0.6093999743461609, 0.6090999841690063, 0.5940999984741211, 0.5823000073432922, 0.3806999921798706, 0.4909000098705292, 0.10140000283718109, 0.18209999799728394, 0.48190000653266907, 0.9702000021934509, 0.9485999941825867, 0.9440000057220459, 0.9408000111579895, 0.8935999870300293, 0.8891000151634216, 0.882099986076355, 0.8769999742507935, 0.85589998960495, 0.85589998960495, 0.8511000275611877, 0.8485999703407288, 0.8366000056266785, 0.8345000147819519, 0.8015000224113464, 0.8003000020980835, 0.7900999784469604, 0.774399995803833, 0.7573000192642212, 0.7565000057220459, 0.7458999752998352, 0.7304999828338623, 0.7300999760627747, 0.7261000275611877, 0.6931999921798706, 0.6894000172615051, 0.6884999871253967, 0.6829000115394592, 0.679099977016449, 0.6696000099182129, 0.4417000114917755, 0.6176999807357788, 0.3427000045776367, 0.1606999933719635, 0.25119999051094055, 1.138700008392334, 1.1098999977111816, 1.1061999797821045, 1.0994000434875488, 1.082900047302246, 1.0615999698638916, 0.9751999974250793, 0.958299994468689, 0.9344000220298767, 0.9296000003814697, 0.9283000230789185, 0.9207000136375427, 0.9190000295639038, 0.9185000061988831, 0.9060999751091003, 0.8779000043869019, 0.8302000164985657, 0.8273000121116638, 0.815500020980835, 0.8101000189781189, 0.8044999837875366, 0.79339998960495, 0.7786999940872192, 0.7786999940872192, 0.7786999940872192, 0.7505999803543091, 0.7458999752998352, 0.722100019454956, 0.7206000089645386, 0.7181000113487244, 0.6836000084877014, 0.6333000063896179, 0.5008000135421753, 0.4575999975204468, 0.5641000270843506, 0.5927000045776367, 0.5530999898910522], \"logprob\": [30.0, 29.0, 28.0, 27.0, 26.0, 25.0, 24.0, 23.0, 22.0, 21.0, 20.0, 19.0, 18.0, 17.0, 16.0, 15.0, 14.0, 13.0, 12.0, 11.0, 10.0, 9.0, 8.0, 7.0, 6.0, 5.0, 4.0, 3.0, 2.0, 1.0, -3.5806000232696533, -3.887200117111206, -4.180600166320801, -4.279300212860107, -4.4492998123168945, -4.685400009155273, -4.754199981689453, -4.8109002113342285, -4.8109002113342285, -4.829100131988525, -4.88070011138916, -4.845699787139893, -4.923500061035156, -4.984899997711182, -4.927199840545654, -5.059700012207031, -5.097599983215332, -5.129000186920166, -5.15939998626709, -5.191800117492676, -5.20419979095459, -5.20419979095459, -5.210700035095215, -5.252900123596191, -5.252900123596191, -5.286600112915039, -5.269100189208984, -5.405900001525879, -5.406300067901611, -5.45359992980957, -4.484499931335449, -4.652100086212158, -5.223100185394287, -4.992099761962891, -5.125699996948242, -5.232399940490723, -3.8129000663757324, -3.9637999534606934, -3.981100082397461, -4.084799766540527, -4.3933000564575195, -4.420100212097168, -4.457699775695801, -4.485799789428711, -4.592700004577637, -4.592700004577637, -4.615699768066406, -4.152299880981445, -4.607500076293945, -4.694799900054932, -4.8354997634887695, -4.820000171661377, -4.881700038909912, -4.925300121307373, -5.000899791717529, -4.9781999588012695, -4.952499866485596, -5.0970001220703125, -5.098700046539307, -5.112100124359131, -5.217899799346924, -5.170400142669678, -5.23199987411499, -5.248300075531006, -5.259900093078613, -4.503600120544434, -4.651800155639648, -5.183899879455566, -4.965099811553955, -4.872099876403809, -5.120200157165527, -3.5090999603271484, -3.7304999828338623, -3.8310000896453857, -3.8361001014709473, -3.996799945831299, -4.001100063323975, -4.509099960327148, -4.627299785614014, -4.757999897003174, -4.775599956512451, -4.780300140380859, -4.808700084686279, -4.815100193023682, -4.815000057220459, -4.861499786376953, -4.957600116729736, -5.093999862670898, -5.08620023727417, -4.66480016708374, -5.167500019073486, -5.183300018310547, -5.215099811553955, -5.251500129699707, -5.251500129699707, -5.251500129699707, -4.922699928283691, -5.323800086975098, -5.381899833679199, -5.404600143432617, -5.410699844360352, -4.583799839019775, -5.122399806976318, -4.96619987487793, -4.91379976272583, -5.16540002822876, -5.228400230407715, -5.2281999588012695]}, \"token.table\": {\"Topic\": [3, 1, 3, 2, 3, 1, 1, 2, 3, 1, 2, 2, 1, 3, 1, 3, 2, 1, 1, 3, 1, 1, 2, 1, 3, 3, 1, 2, 2, 1, 3, 2, 1, 2, 2, 2, 3, 2, 3, 1, 1, 2, 2, 2, 2, 2, 2, 2, 1, 1, 2, 3, 2, 3, 3, 3, 1, 2, 1, 2, 1, 1, 2, 3, 3, 1, 3, 1, 3, 3, 1, 1, 1, 3, 1, 3, 2, 1, 2, 2, 2, 3, 1, 2, 2, 1, 3, 3, 2, 2, 1, 3, 2, 1, 3, 3, 3, 3, 1, 3, 3, 1, 1, 3, 3, 2, 3, 1, 3, 2, 1, 1, 2, 3, 1, 2, 2, 2, 1, 1, 2], \"Freq\": [0.858393669128418, 0.5741124749183655, 0.8153018355369568, 0.4577489197254181, 0.4577489197254181, 0.9167330265045166, 0.6242935061454773, 0.41619569063186646, 0.8352766036987305, 0.9615799188613892, 0.9225081205368042, 0.8596475124359131, 0.7245920896530151, 0.5407810807228088, 0.9647271037101746, 0.5020262598991394, 0.8682989478111267, 0.95607590675354, 0.682965874671936, 0.6226564645767212, 0.49817201495170593, 0.5558395385742188, 0.8107559680938721, 0.3212161362171173, 0.3212161362171173, 0.5642145276069641, 0.41121119260787964, 0.41121119260787964, 0.5149560570716858, 0.4176498055458069, 0.4176498055458069, 0.8229870200157166, 0.20156332850456238, 0.8062533140182495, 0.8264397978782654, 0.4287460148334503, 0.4287460148334503, 0.4398849606513977, 0.4398849606513977, 0.9336394667625427, 0.7810482382774353, 0.6279093027114868, 0.4757566452026367, 0.9213083982467651, 0.5109597444534302, 0.9461726546287537, 0.7884859442710876, 0.7614896297454834, 0.4974711835384369, 0.7117738127708435, 0.6837804913520813, 0.8180322051048279, 0.2919504940509796, 0.5839009881019592, 0.5352622270584106, 0.5642145276069641, 0.9755654335021973, 0.44891342520713806, 0.23944617807865143, 0.7183385491371155, 0.7604157328605652, 0.8665791749954224, 0.39484259486198425, 0.7896851897239685, 0.8386586904525757, 0.9683003425598145, 0.9440537095069885, 0.5558688640594482, 0.8722618818283081, 0.9455286264419556, 0.4838891923427582, 0.9647271037101746, 0.41135528683662415, 0.41135528683662415, 0.3255288600921631, 0.6510577201843262, 0.8097168803215027, 0.5478907227516174, 0.5478907227516174, 0.6423370242118835, 0.5008428692817688, 0.9286805391311646, 0.4422453045845032, 0.4422453045845032, 0.8397086262702942, 0.7244848608970642, 0.6203925609588623, 0.8391894102096558, 0.9726776480674744, 0.8485609889030457, 0.4974711835384369, 0.5520702600479126, 0.5055559277534485, 0.2631024122238159, 0.5262048244476318, 0.8048973679542542, 0.8495105504989624, 0.8678041696548462, 0.891754150390625, 0.5074371695518494, 0.7233913540840149, 0.7670091986656189, 0.9129492044448853, 0.5868901610374451, 0.6537171006202698, 0.8048826456069946, 0.5642145276069641, 0.7117738127708435, 0.607392430305481, 0.9224990010261536, 0.5088836550712585, 0.8189516067504883, 0.9461726546287537, 0.8576359152793884, 0.8350282907485962, 0.7489370107650757, 0.9341887831687927, 0.9312021732330322, 0.755392849445343, 0.6458616256713867, 0.2152871936559677], \"Term\": [\"acheter\", \"adresse\", \"age\", \"amie\", \"amie\", \"annees\", \"anniversaire\", \"anniversaire\", \"antoine\", \"arnaque\", \"attentat\", \"beaucoup\", \"bien\", \"bourdelle\", \"brad\", \"bus\", \"cardinal\", \"cette\", \"charlie\", \"chercher\", \"christophe\", \"cinema\", \"clooney\", \"commence\", \"commence\", \"comment\", \"connais\", \"connais\", \"contruite\", \"depuis\", \"depuis\", \"dire\", \"dites\", \"dites\", \"dujardin\", \"d\\u00e9c\\u00e8s\", \"d\\u00e9c\\u00e8s\", \"d\\u00e9j\\u00e0\", \"d\\u00e9j\\u00e0\", \"eiffel\", \"environ\", \"esp\\u00e9rance\", \"essay\\u00e9\", \"europ\\u00e9en\", \"existe\", \"fabre\", \"fast\", \"femelle\", \"femme\", \"fill\", \"food\", \"f\\u00e9vrier\", \"gare\", \"gare\", \"germain\", \"grant\", \"hollande\", \"ind\\u00e9pendence\", \"invalid\", \"invalid\", \"isabelle\", \"kennedy\", \"lear\", \"lear\", \"lorsqu\", \"lune\", \"maine\", \"maman\", \"match\", \"michel\", \"mick\", \"mindiquer\", \"minimum\", \"minimum\", \"monaco\", \"monaco\", \"mondiale\", \"montparnasse\", \"montparnasse\", \"montre\", \"montsouris\", \"nicolas\", \"nom\", \"nom\", \"nuit\", \"olympiques\", \"ouverture\", \"passer\", \"peut\", \"pouvoir\", \"prochaines\", \"proximite\", \"pr\\u00e9sident\", \"region\", \"region\", \"rendez\", \"republique\", \"retrouve\", \"richilieu\", \"roussous\", \"rue\", \"r\\u00e9dig\\u00e9\", \"samu\", \"sanglier\", \"sarkozy\", \"sorti\", \"spam\", \"taxi\", \"telephone\", \"temps\", \"tiens\", \"tombe\", \"tomb\\u00e9\", \"tour\", \"travaillent\", \"trouve\", \"ugc\", \"valerie\", \"veux\", \"\\u00e9lections\", \"\\u00e9lections\"]}, \"R\": 30, \"lambda.step\": 0.01, \"plot.opts\": {\"xlab\": \"PC1\", \"ylab\": \"PC2\"}, \"topic.order\": [1, 2, 3]};\n",
       "\n",
       "function LDAvis_load_lib(url, callback){\n",
       "  var s = document.createElement('script');\n",
       "  s.src = url;\n",
       "  s.async = true;\n",
       "  s.onreadystatechange = s.onload = callback;\n",
       "  s.onerror = function(){console.warn(\"failed to load library \" + url);};\n",
       "  document.getElementsByTagName(\"head\")[0].appendChild(s);\n",
       "}\n",
       "\n",
       "if(typeof(LDAvis) !== \"undefined\"){\n",
       "   // already loaded: just create the visualization\n",
       "   !function(LDAvis){\n",
       "       new LDAvis(\"#\" + \"ldavis_el105165987475667927579337919\", ldavis_el105165987475667927579337919_data);\n",
       "   }(LDAvis);\n",
       "}else if(typeof define === \"function\" && define.amd){\n",
       "   // require.js is available: use it to load d3/LDAvis\n",
       "   require.config({paths: {d3: \"https://cdnjs.cloudflare.com/ajax/libs/d3/3.5.5/d3.min\"}});\n",
       "   require([\"d3\"], function(d3){\n",
       "      window.d3 = d3;\n",
       "      LDAvis_load_lib(\"https://cdn.rawgit.com/bmabey/pyLDAvis/files/ldavis.v1.0.0.js\", function(){\n",
       "        new LDAvis(\"#\" + \"ldavis_el105165987475667927579337919\", ldavis_el105165987475667927579337919_data);\n",
       "      });\n",
       "    });\n",
       "}else{\n",
       "    // require.js not available: dynamically load d3 & LDAvis\n",
       "    LDAvis_load_lib(\"https://cdnjs.cloudflare.com/ajax/libs/d3/3.5.5/d3.min.js\", function(){\n",
       "         LDAvis_load_lib(\"https://cdn.rawgit.com/bmabey/pyLDAvis/files/ldavis.v1.0.0.js\", function(){\n",
       "                 new LDAvis(\"#\" + \"ldavis_el105165987475667927579337919\", ldavis_el105165987475667927579337919_data);\n",
       "            })\n",
       "         });\n",
       "}\n",
       "</script>"
      ],
      "text/plain": [
       "PreparedData(topic_coordinates=              x         y  topics  cluster       Freq\n",
       "topic                                                \n",
       "0     -0.000315 -0.087454       1        1  37.165630\n",
       "1     -0.088795  0.043960       2        1  33.815228\n",
       "2      0.089110  0.043494       3        1  29.019135, topic_info=    Category      Freq        Term     Total  loglift  logprob\n",
       "180  Default  7.000000  republique  7.000000  30.0000  30.0000\n",
       "17   Default  8.000000    hollande  8.000000  29.0000  29.0000\n",
       "3    Default  5.000000     acheter  5.000000  28.0000  28.0000\n",
       "156  Default  5.000000      michel  5.000000  27.0000  27.0000\n",
       "19   Default  5.000000       maine  5.000000  26.0000  26.0000\n",
       "..       ...       ...         ...       ...      ...      ...\n",
       "212   Topic3  1.490600    commence  3.113169   0.5008  -4.9662\n",
       "307   Topic3  1.570821        gare  3.425238   0.4576  -4.9138\n",
       "165   Topic3  1.221427      depuis  2.394351   0.5641  -5.1654\n",
       "328   Topic3  1.146747        amie  2.184604   0.5927  -5.2284\n",
       "256   Topic3  1.146987        déjà  2.273322   0.5531  -5.2282\n",
       "\n",
       "[138 rows x 6 columns], token_table=      Topic      Freq       Term\n",
       "term                            \n",
       "3         3  0.858394    acheter\n",
       "91        1  0.574112    adresse\n",
       "15        3  0.815302        age\n",
       "328       2  0.457749       amie\n",
       "328       3  0.457749       amie\n",
       "...     ...       ...        ...\n",
       "107       2  0.934189        ugc\n",
       "219       2  0.931202    valerie\n",
       "306       1  0.755393       veux\n",
       "186       1  0.645862  élections\n",
       "186       2  0.215287  élections\n",
       "\n",
       "[121 rows x 3 columns], R=30, lambda_step=0.01, plot_opts={'xlab': 'PC1', 'ylab': 'PC2'}, topic_order=[1, 2, 3])"
      ]
     },
     "execution_count": 17,
     "metadata": {},
     "output_type": "execute_result"
    }
   ],
   "source": [
    "# Topic analysis\n",
    "import pyLDAvis.gensim\n",
    "import gensim\n",
    "pyLDAvis.enable_notebook()\n",
    "\n",
    "\n",
    "data_pyLDA = pyLDAvis.gensim.prepare(lda_tfidf_short, doc_term_matrix, dictionary_gen)\n",
    "data_pyLDA"
   ]
  },
  {
   "cell_type": "code",
   "execution_count": null,
   "metadata": {},
   "outputs": [],
   "source": []
  }
 ],
 "metadata": {
  "kernelspec": {
   "display_name": "Python 3",
   "language": "python",
   "name": "python3"
  },
  "language_info": {
   "codemirror_mode": {
    "name": "ipython",
    "version": 3
   },
   "file_extension": ".py",
   "mimetype": "text/x-python",
   "name": "python",
   "nbconvert_exporter": "python",
   "pygments_lexer": "ipython3",
   "version": "3.7.4"
  }
 },
 "nbformat": 4,
 "nbformat_minor": 2
}
